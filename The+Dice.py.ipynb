{
 "cells": [
  {
   "cell_type": "markdown",
   "metadata": {},
   "source": [
    "# The Dice Program"
   ]
  },
  {
   "cell_type": "markdown",
   "metadata": {},
   "source": [
    "First we import the Random Package that allows us to get random responses:"
   ]
  },
  {
   "cell_type": "code",
   "execution_count": 1,
   "metadata": {
    "collapsed": true,
    "scrolled": true
   },
   "outputs": [],
   "source": [
    "import random"
   ]
  },
  {
   "cell_type": "markdown",
   "metadata": {},
   "source": [
    "Then we create the function that is going to be our dice:"
   ]
  },
  {
   "cell_type": "code",
   "execution_count": 2,
   "metadata": {},
   "outputs": [],
   "source": [
    "# adding the variables that will need to be added to the function later on.\n",
    "def dice(min,max): \n",
    "    print(\"Rolling the dices...\")\n",
    "    \n",
    "    # printing out a random number between min and max. \n",
    "    print(\"You Rolled: \" + str(random.randint(min, max))) "
   ]
  },
  {
   "cell_type": "markdown",
   "metadata": {},
   "source": [
    "Then We need a variable for if we want to run the code again Yes or No:"
   ]
  },
  {
   "cell_type": "code",
   "execution_count": 3,
   "metadata": {
    "collapsed": true
   },
   "outputs": [],
   "source": [
    "roll_again = \"yes\""
   ]
  },
  {
   "cell_type": "markdown",
   "metadata": {},
   "source": [
    "Then we add in the while loop that is going to repeat the dice as long as we respond with 'yes' or 'y'\n",
    "it will ask the user for an interval divided by (``-``) so a ``1-6`` means between ``1`` and ``6``."
   ]
  },
  {
   "cell_type": "code",
   "execution_count": 4,
   "metadata": {},
   "outputs": [
    {
     "name": "stdout",
     "output_type": "stream",
     "text": [
      "Interval: 1-6\n",
      "Rolling the dices...\n",
      "You Rolled: 4\n",
      "Roll the dices again? yes\n",
      "Interval: 1-100\n",
      "Rolling the dices...\n",
      "You Rolled: 66\n",
      "Roll the dices again? no\n"
     ]
    }
   ],
   "source": [
    "# while loop that is going to repeat the dice as long as we respond with 'yes' or 'y'\n",
    "while roll_again == \"yes\" or roll_again == \"y\": \n",
    "    \n",
    "    # ask the user for an interval divided by (-)\n",
    "    interval_input = input(\"Interval: \")  \n",
    "     \n",
    "        # splits the input by the divider (-)\n",
    "    interval = interval_input.split('-')\n",
    "    \n",
    "    # sets the value before (-) in the interval[0] \n",
    "    # and the value after (-) in the interval[1]\n",
    "    dice(int(interval[0]),int(interval[1])) \n",
    "    \n",
    "    #ask the user for a 'yes', 'y' or no to repeat the dice\n",
    "    roll_again = input(\"Roll the dices again? \")"
   ]
  }
 ],
 "metadata": {
  "kernelspec": {
   "display_name": "Python 3",
   "language": "python",
   "name": "python3"
  },
  "language_info": {
   "codemirror_mode": {
    "name": "ipython",
    "version": 3
   },
   "file_extension": ".py",
   "mimetype": "text/x-python",
   "name": "python",
   "nbconvert_exporter": "python",
   "pygments_lexer": "ipython3",
   "version": "3.6.1"
  }
 },
 "nbformat": 4,
 "nbformat_minor": 2
}
